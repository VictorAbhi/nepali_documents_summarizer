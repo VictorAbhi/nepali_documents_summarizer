{
 "cells": [
  {
   "cell_type": "code",
   "execution_count": 2,
   "metadata": {},
   "outputs": [],
   "source": [
    "import easyocr\n",
    "import fitz\n",
    "import numpy as np\n",
    "from transformers import AutoTokenizer, AutoModel\n",
    "from sklearn.cluster import KMeans\n",
    "import torch\n",
    "import re\n",
    "import io\n",
    "import base64\n",
    "from PIL import Image"
   ]
  },
  {
   "cell_type": "code",
   "execution_count": 3,
   "metadata": {},
   "outputs": [],
   "source": [
    "# Load models and tokenizer\n",
    "tokenizer = AutoTokenizer.from_pretrained(\"Sakonii/distilbert-base-nepali\")\n",
    "nepali_model = AutoModel.from_pretrained(\"Sakonii/distilbert-base-nepali\")"
   ]
  },
  {
   "cell_type": "code",
   "execution_count": 4,
   "metadata": {},
   "outputs": [],
   "source": [
    "language='ne'"
   ]
  },
  {
   "cell_type": "code",
   "execution_count": 5,
   "metadata": {},
   "outputs": [
    {
     "name": "stderr",
     "output_type": "stream",
     "text": [
      "Neither CUDA nor MPS are available - defaulting to CPU. Note: This module is much faster with a GPU.\n"
     ]
    },
    {
     "name": "stdout",
     "output_type": "stream",
     "text": [
      "काठनाडौ नेकपा माओवादी केन्द्रका अध्यक्ष एवं प्रधानमन्ची पुष्पकमल दाहालले संसदमा विचाराधीन विदृयालय शिद्षा ऐन सरकारको उच्च प्राथामेकनामा रहेको बताएका एन शनिबार एकीकृत अखेल = शिक्षक मगठनले काठमाडौका सातापाइलामा गरको कायक्रममा पधानमन्ना दाहालल अब डिट्ट शोका ऐन जारी हुने बताए विदृयालय शिद्षा ऐन सरकारको उच्च प्राथमिकत्तामा ए : प्रधानमन्नी दाहाल नपाईहरू धरैलाई संघीय शिक्षा ऐन के हून्र अन्ने जिज्ञामा ज अहिले संसद अधिवेशन ममापन भएको ख। नयां अधिवेशन बोलाएपछि पहिला काम नै सॅन्य निरूपण तया मैलमिलापसम्बन्धी ऐन संघीय शिक्षा ऐन संप्तदबाट पारित्त गराउन पहल हुन्छ। यो ऐन सरकारको उच्च प्राथमिकतामा छ ' प्रधानमन्तरी दाहालले भने उनले ऐन शिक्षकहरूले उठाएका मागहरु सकेसम्म समेट्ने प्रयाप्त गर्ने बनाए नपाई शिक्षकहरुले आफ्ना माग र मुदृदा सम्बोधन गर्न सडकबाट समेत्त दबाब दिनुभयो। यसले सरकारलाई सहयोग पुगेको छ \" उनले अने, तपाईहरूले अहिलेको मस्यौदामा जुन सुझावहरू दिनुभएको न्यप्तमध्ये जायज्ज 7|-\"- 7||\"||; मम्नाधन गरिनेख \" नेपान चिदयाल्नस\n"
     ]
    }
   ],
   "source": [
    "\n",
    "\"\"\"Extract text from scanned PDF using EasyOCR.\"\"\"\n",
    "reader = easyocr.Reader([language])\n",
    "try:\n",
    "    text = ''\n",
    "    pdf_document = fitz.open('Data/sample.pdf')\n",
    "    for page_num in range(pdf_document.page_count):\n",
    "        page = pdf_document.load_page(page_num)\n",
    "        pix = page.get_pixmap()\n",
    "        img_array = np.frombuffer(pix.samples, dtype=np.uint8).reshape(pix.height, pix.width, -1)\n",
    "        page_text = reader.readtext(img_array)\n",
    "        text += ' '.join([item[1] for item in page_text]) + '\\n'\n",
    "    print(text.strip())\n",
    "except Exception as e:\n",
    "    print(str(e))"
   ]
  },
  {
   "cell_type": "code",
   "execution_count": 7,
   "metadata": {},
   "outputs": [
    {
     "name": "stderr",
     "output_type": "stream",
     "text": [
      "Neither CUDA nor MPS are available - defaulting to CPU. Note: This module is much faster with a GPU.\n"
     ]
    },
    {
     "name": "stdout",
     "output_type": "stream",
     "text": [
      "१८.\n",
      "समानताका\n",
      "हफः\n",
      "८१। सबै नागरिक\n",
      "दृष्टिमा\n",
      "समान\n",
      "हुनेछन्\n",
      "कसैलाई  पनि\n",
      "कानूनको समान संरक्षणबाट बञ्चित गरिने छैन\n",
      "^)\n",
      "।२ )\n",
      "स1+|न4\n",
      "कानूनको\n",
      "प्रयोगमा  उत्पत्ति धर्न वर्ण\n",
      "जात\n",
      "जाति लिङ्ग, शारीरिक\n",
      "अवस्था\n",
      "अपा#ता,\n",
      "एनारध्य\n",
      "स्थिति वैवाहिक स्थिति गर्भावस्था आर्थिक\n",
      "अवस्था भापा\n",
      "क्षेत्र वैचरिक\n",
      "आस्था\n",
      "यस्तै\n",
      "अन्य\n",
      "कुनै आधारमा भेदभाव गरिने छैन |\n",
      "राज्यले   नागरिकहरूका\n",
      "बीच उत्पत्ति धर्म वर्ण जात जति लिङ् आर्थिक\n",
      "अवस्था भाषा क्षेत्र वैचारिक\n",
      "आस्था\n",
      "यस्तै\n",
      "अन्य\n",
      "कुनै\n",
      "आधारमा\n",
      "भेदभाव गर्ने छैन |\n",
      "सामाजिक\n",
      "सांस्कृतिक   दृष्टिले\n",
      "पिछडिएका\n",
      "महिला\n",
      "दलित   आदिवासी,\n",
      "आदिवासी\n",
      "जनजति   मधेशी\n",
      "थरू\n",
      "नुस्लिम\n",
      "उत्पीडित\n",
      "वर्ग\n",
      "वर्ग\n",
      "अल्पसंख्यक\n",
      "सीमान्तीकृत   किसान\n",
      "श्रमिक, युव\n",
      "बालवालिका\n",
      "ज्येष्ठ\n",
      "नागरिक, लैंड्गिक\n",
      "तथा   यौनिक\n",
      "अल्पसंख्यक\n",
      "अपाऊ्गता\n",
      "भएका\n",
      "व्यक्ति गर्भावस्थाका व्यक्ति\n",
      "अशक्त\n",
      "असहाय पिछडिएको\n",
      "क्षेत्र\n",
      "आर्थिक\n",
      "रूपले\n",
      "खस\n",
      "आय\n",
      "लगयत\n",
      "नगरिकको\n",
      "संरक्षण  सशक्तीकरण\n",
      "विकासका लागि कानून बमोजिम विशेष\n",
      "व्यवरथा\n",
      "गर्न रोक लगाएको नानिने छैन\n",
      "स्पष्टीकरणः\n",
      "4स\n",
      "भान\n",
      "भाग ४ को प्रयोजनका लागि\n",
      "आर्थिक रूपले विपन्न'\n",
      "भन्नाले\n",
      "संघीय कानूनमा तेकिएको\n",
      "आयभन्दा\n",
      "कम\n",
      "अय\n",
      "व्यक्ति सन्झनु पर्छ\n",
      "१४ )\n",
      "समान\n",
      "काभका\n",
      "लगि\n",
      "लोड्रेक\n",
      "अ|ध1र#|\n",
      "पारिश्रमिक\n",
      "तथा सामाजिक सुरक्षामा\n",
      "भेदभाव गरिने छैन |\n",
      "१५ )\n",
      "पैतृक सम्पत्तिमा लैं्गिक भेदभाव विना सबै सन्तनको समान\n",
      "हफ\n",
      "हुनेछ\n",
      "कानूनको\n",
      "पिछडा\n",
      "विपन्न\n",
      "भएकोे\n"
     ]
    }
   ],
   "source": [
    "reader = easyocr.Reader([language])\n",
    "\n",
    "# Load the image correctly\n",
    "image_path = \"Data/sample.png\"  # File path as a string\n",
    "image = Image.open(image_path)  # Open the image using PIL\n",
    "\n",
    "try:\n",
    "    img_bytes = io.BytesIO()\n",
    "    image.save(img_bytes, format='PNG')  # Save PIL image to bytes\n",
    "    result = reader.readtext(img_bytes.getvalue())  # Process with EasyOCR\n",
    "    text1 = '\\n'.join([item[1] for item in result])\n",
    "    print(text1.strip())  # Print extracted text\n",
    "except Exception as e:\n",
    "    print(str(e))"
   ]
  },
  {
   "cell_type": "code",
   "execution_count": null,
   "metadata": {},
   "outputs": [],
   "source": [
    "import matplotlib.pyplot as plt\n",
    "\n",
    "def find_optimal_k(embeddings, max_k=10):\n",
    "    \"\"\"Find the best value of k using the Elbow Method.\"\"\"\n",
    "    sse = []  # Sum of squared errors for different k values\n",
    "    k_values = list(range(2, min(max_k, len(embeddings)) + 1))  # Avoid k > number of sentences\n",
    "\n",
    "    for k in k_values:\n",
    "        kmeans = KMeans(n_clusters=k, n_init=10, random_state=42)\n",
    "        kmeans.fit(embeddings)\n",
    "        sse.append(kmeans.inertia_)  # Store the SSE\n",
    "\n",
    "    # Plot the Elbow Method graph\n",
    "    plt.figure(figsize=(6, 4))\n",
    "    plt.plot(k_values, sse, marker='o', linestyle='--')\n",
    "    plt.xlabel(\"Number of Clusters (k)\")\n",
    "    plt.ylabel(\"Sum of Squared Errors (SSE)\")\n",
    "    plt.title(\"Elbow Method to Find Optimal k\")\n",
    "    plt.show()\n",
    "\n",
    "    # Find the elbow point automatically (second derivative method)\n",
    "    diff = np.diff(sse)  # First derivative\n",
    "    diff2 = np.diff(diff)  # Second derivative\n",
    "    optimal_k = k_values[np.argmin(diff2)]  # Where the curve bends\n",
    "\n",
    "    return optimal_k\n"
   ]
  },
  {
   "cell_type": "code",
   "execution_count": 14,
   "metadata": {},
   "outputs": [
    {
     "data": {
      "image/png": "[encoded data removed]",
      "text/plain": [
       "<Figure size 600x400 with 1 Axes>"
      ]
     },
     "metadata": {},
     "output_type": "display_data"
    },
    {
     "name": "stdout",
     "output_type": "stream",
     "text": [
      "१८ । सबै नागरिक\n",
      "दृष्टिमा\n",
      "समान\n",
      "हुनेछन्\n",
      "कसैलाई  पनि\n",
      "कानूनको समान संरक्षणबाट बञ्चित गरिने छैन\n",
      "^)\n"
     ]
    }
   ],
   "source": [
    "def summarize_text(model, tokenizer, text, n_clusters=5):\n",
    "    \"\"\"Summarize text using K-Means clustering on sentence embeddings.\"\"\"\n",
    "    \n",
    "    if not isinstance(text, str):\n",
    "        text = str(text)\n",
    "\n",
    "    # Split text into sentences\n",
    "    sentences = re.split(r'[।?\\.।\\?।।]', text)\n",
    "    sentences = [sentence.strip() for sentence in sentences if sentence]\n",
    "\n",
    "    # Generate embeddings for each sentence\n",
    "    embeddings = []\n",
    "    for sentence in sentences:\n",
    "        inputs = tokenizer(sentence, return_tensors=\"pt\", return_attention_mask=True)\n",
    "        with torch.no_grad():\n",
    "            output = model(**inputs)\n",
    "        embedding = output.last_hidden_state[:, 0, :].squeeze()\n",
    "        embeddings.append(embedding.numpy())  # Convert tensor to NumPy array\n",
    "\n",
    "    # Convert list of embeddings to NumPy array\n",
    "    embeddings = np.array(embeddings)\n",
    "\n",
    "    optimal_k = find_optimal_k(embeddings)\n",
    "\n",
    "    # K-Means clustering\n",
    "    n_clusters = min(optimal_k, len(embeddings))  # Ensure clusters do not exceed sentence count\n",
    "    kmeans = KMeans(n_clusters=n_clusters, n_init=10, random_state=42)\n",
    "    kmeans.fit(embeddings)\n",
    "\n",
    "    # Find representative sentence from each cluster\n",
    "    summary_sentences = []\n",
    "    for cluster_index in range(kmeans.n_clusters):\n",
    "        sentence_indices = np.where(kmeans.labels_ == cluster_index)[0]\n",
    "        centroid = kmeans.cluster_centers_[cluster_index]\n",
    "\n",
    "        # Find the sentence closest to the cluster centroid\n",
    "        closest_sentence_index = min(sentence_indices, key=lambda i: np.linalg.norm(embeddings[i] - centroid))\n",
    "        summary_sentences.append(sentences[closest_sentence_index])\n",
    "\n",
    "    # Return summary as a string\n",
    "    return \" । \".join(summary_sentences)\n",
    "\n",
    "print(summarize_text(nepali_model,tokenizer, text1))"
   ]
  },
  {
   "cell_type": "code",
   "execution_count": null,
   "metadata": {},
   "outputs": [],
   "source": [
    "import matplotlib.pyplot as plt\n",
    "# elbow method for determining value of k\n",
    "X = np.random.rand(100, 2)\n",
    "\n",
    "# Run K-Means for different K values\n",
    "wcss = []\n",
    "for k in range(1, 11):\n",
    "    kmeans = KMeans(n_clusters=k, random_state=42, n_init=10)\n",
    "    kmeans.fit(X)\n",
    "    wcss.append(kmeans.inertia_)  # Inertia = WCSS\n",
    "\n",
    "# Plot WCSS vs. K\n",
    "plt.plot(range(1, 11), wcss, marker='o', linestyle='--')\n",
    "plt.xlabel('Number of Clusters (K)')\n",
    "plt.ylabel('WCSS')\n",
    "plt.title('Elbow Method for Optimal K')\n",
    "plt.show()"
   ]
  }
 ],
 "metadata": {
  "kernelspec": {
   "display_name": ".venv",
   "language": "python",
   "name": "python3"
  },
  "language_info": {
   "codemirror_mode": {
    "name": "ipython",
    "version": 3
   },
   "file_extension": ".py",
   "mimetype": "text/x-python",
   "name": "python",
   "nbconvert_exporter": "python",
   "pygments_lexer": "ipython3",
   "version": "3.9.0"
  }
 },
 "nbformat": 4,
 "nbformat_minor": 2
}
